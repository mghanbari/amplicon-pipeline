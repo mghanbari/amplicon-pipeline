{
 "cells": [
  {
   "cell_type": "code",
   "execution_count": 3,
   "metadata": {
    "collapsed": false
   },
   "outputs": [],
   "source": [
    "create_table <- function(fastq.dir, allele_fp) {\n",
    "    list.files('.')\n",
    "    return(count.df)\n",
    "}"
   ]
  },
  {
   "cell_type": "code",
   "execution_count": 5,
   "metadata": {
    "collapsed": false
   },
   "outputs": [
    {
     "data": {
      "text/html": [
       "<ol class=list-inline>\n",
       "\t<li>'biom_summ.txt'</li>\n",
       "\t<li>'core_div_97'</li>\n",
       "\t<li>'dev'</li>\n",
       "\t<li>'installForWorkshop.R'</li>\n",
       "\t<li>'java-script'</li>\n",
       "\t<li>'jupyterhub_cookie_secret'</li>\n",
       "\t<li>'jupyterhub.sqlite'</li>\n",
       "\t<li>'office-project'</li>\n",
       "\t<li>'other_projects'</li>\n",
       "\t<li>'temp_fastq_munge'</li>\n",
       "\t<li>'Untitled.ipynb'</li>\n",
       "\t<li>'untitled.txt'</li>\n",
       "</ol>\n"
      ],
      "text/latex": [
       "\\begin{enumerate*}\n",
       "\\item 'biom_summ.txt'\n",
       "\\item 'core_div_97'\n",
       "\\item 'dev'\n",
       "\\item 'installForWorkshop.R'\n",
       "\\item 'java-script'\n",
       "\\item 'jupyterhub_cookie_secret'\n",
       "\\item 'jupyterhub.sqlite'\n",
       "\\item 'office-project'\n",
       "\\item 'other_projects'\n",
       "\\item 'temp_fastq_munge'\n",
       "\\item 'Untitled.ipynb'\n",
       "\\item 'untitled.txt'\n",
       "\\end{enumerate*}\n"
      ],
      "text/markdown": [
       "1. 'biom_summ.txt'\n",
       "2. 'core_div_97'\n",
       "3. 'dev'\n",
       "4. 'installForWorkshop.R'\n",
       "5. 'java-script'\n",
       "6. 'jupyterhub_cookie_secret'\n",
       "7. 'jupyterhub.sqlite'\n",
       "8. 'office-project'\n",
       "9. 'other_projects'\n",
       "10. 'temp_fastq_munge'\n",
       "11. 'Untitled.ipynb'\n",
       "12. 'untitled.txt'\n",
       "\n",
       "\n"
      ],
      "text/plain": [
       " [1] \"biom_summ.txt\"            \"core_div_97\"             \n",
       " [3] \"dev\"                      \"installForWorkshop.R\"    \n",
       " [5] \"java-script\"              \"jupyterhub_cookie_secret\"\n",
       " [7] \"jupyterhub.sqlite\"        \"office-project\"          \n",
       " [9] \"other_projects\"           \"temp_fastq_munge\"        \n",
       "[11] \"Untitled.ipynb\"           \"untitled.txt\"            "
      ]
     },
     "execution_count": 5,
     "metadata": {},
     "output_type": "execute_result"
    }
   ],
   "source": [
    "list.files('.')"
   ]
  },
  {
   "cell_type": "code",
   "execution_count": null,
   "metadata": {
    "collapsed": true
   },
   "outputs": [],
   "source": []
  }
 ],
 "metadata": {
  "kernelspec": {
   "display_name": "R",
   "language": "R",
   "name": "r"
  },
  "language_info": {
   "codemirror_mode": "r",
   "file_extension": ".r",
   "mimetype": "text/x-r-source",
   "name": "R",
   "pygments_lexer": "r",
   "version": "3.2.2"
  }
 },
 "nbformat": 4,
 "nbformat_minor": 0
}
